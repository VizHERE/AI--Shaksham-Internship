{
 "cells": [
  {
   "cell_type": "code",
   "execution_count": null,
   "id": "a6ab8d92-c6cd-4c6c-b83a-00161c33f6bf",
   "metadata": {},
   "outputs": [],
   "source": [
    "#Upgrades pip, the Python package installer, to the latest version.\n",
    "pip install --upgrade pip"
   ]
  },
  {
   "cell_type": "code",
   "execution_count": null,
   "id": "4ebf31da-dd8e-4d44-9e3b-a7434cebe337",
   "metadata": {},
   "outputs": [],
   "source": [
    "#Installs TensorFlow, an open-source machine learning library.\n",
    "pip install tensorflow"
   ]
  },
  {
   "cell_type": "code",
   "execution_count": null,
   "id": "6a18b0a4-b454-4a24-9d4a-e9eec530be2d",
   "metadata": {},
   "outputs": [],
   "source": [
    "import tensorflow as tf\n",
    "from tensorflow.keras import layers, models\n",
    "import matplotlib.pyplot as plt\n",
    "import numpy as np\n",
    "import seaborn as sn"
   ]
  },
  {
   "cell_type": "code",
   "execution_count": null,
   "id": "ea0e4893-7b04-44e6-82b2-bad20fd5df4e",
   "metadata": {},
   "outputs": [],
   "source": [
    "#Loads the MNIST dataset.\n",
    "mnist = tf.keras.datasets.mnist"
   ]
  },
  {
   "cell_type": "code",
   "execution_count": null,
   "id": "f9e87341-19b2-493a-9ec0-24f92737d8a4",
   "metadata": {},
   "outputs": [],
   "source": [
    "#Splits the data into training and testing sets.\n",
    "(train_images, train_labels), (test_images, test_labels) = mnist.load_data()\n",
    "#Prints the shapes of the training and testing datasets to verify their dimensions.\n",
    "print(\"train_images:\",train_images.shape)\n",
    "print(\"train_labels:\",train_labels.shape)\n",
    "print(\"test_images:\",test_images.shape)\n",
    "print(\"test_labels:\",test_labels.shape)"
   ]
  },
  {
   "cell_type": "code",
   "execution_count": null,
   "id": "e9532e67-d9fd-4f0f-8daf-c13c9620cc5d",
   "metadata": {},
   "outputs": [],
   "source": [
    "# Displays the first training image.\n",
    "plt.matshow(train_images[0])\n",
    "#Prints the label of the first training image.\n",
    "print(train_labels[0])"
   ]
  },
  {
   "cell_type": "code",
   "execution_count": null,
   "id": "8140f240-805d-4137-bd1b-9d5dce742dcf",
   "metadata": {},
   "outputs": [],
   "source": [
    "#Normalizes the image pixel values to the range [0, 1].\n",
    "train_images, test_images = train_images / 255.0, test_images /255.0"
   ]
  },
  {
   "cell_type": "code",
   "execution_count": null,
   "id": "acde6ab6-2ebf-462f-905a-4bb9ead2012e",
   "metadata": {},
   "outputs": [],
   "source": [
    "#Reshapes the images to add a single color channel (grayscale).\n",
    "train_images = train_images.reshape(train_images.shape[0], 28,28, 1)\n",
    "test_images = test_images.reshape(test_images.shape[0], 28, 28,1)"
   ]
  },
  {
   "cell_type": "code",
   "execution_count": null,
   "id": "0c361945-7ca9-411f-9903-07f768430382",
   "metadata": {},
   "outputs": [],
   "source": [
    "#Building the CNN Model by  Initializing a sequential model.\n",
    "model = models.Sequential([\n",
    "    layers.Conv2D(32, (3, 3), activation='relu', input_shape=(28,28, 1)),\n",
    "    layers.MaxPooling2D((2, 2)),\n",
    "    layers.Conv2D(64, (3, 3), activation='relu'),\n",
    "    layers.MaxPooling2D((2, 2)),\n",
    "    layers.Conv2D(64, (3, 3), activation='relu'),\n",
    "    layers.Flatten(),\n",
    "    layers.Dense(64, activation='relu'),\n",
    "    layers.Dense(10, activation='softmax')])"
   ]
  },
  {
   "cell_type": "code",
   "execution_count": null,
   "id": "be01a294-226a-461f-b7f5-3a3c8dbe4f30",
   "metadata": {},
   "outputs": [],
   "source": [
    "#Compiles the model with the Adam optimizer, sparse categorical cross-entropy loss function, and accuracy as a metric.\n",
    "model.compile(optimizer='adam',loss='sparse_categorical_crossentropy',metrics=['accuracy'])"
   ]
  },
  {
   "cell_type": "code",
   "execution_count": null,
   "id": "09b5ea16-6403-4f40-adaa-db06fb8249b7",
   "metadata": {},
   "outputs": [],
   "source": [
    "#Trains the model on the training data for 7 epochs.Uses the test data for validation.\n",
    "model.fit(train_images, train_labels, epochs=7,validation_data=(test_images, test_labels))"
   ]
  },
  {
   "cell_type": "code",
   "execution_count": null,
   "id": "bf7e3307-377c-41ed-a1a3-c58fff790ca4",
   "metadata": {},
   "outputs": [],
   "source": [
    "#Evaluates the model on the test data and prints the test accuracy.\n",
    "test_loss, test_acc = model.evaluate(test_images, test_labels,verbose=1)\n",
    "print(f'Test accuracy: {test_acc}')"
   ]
  },
  {
   "cell_type": "code",
   "execution_count": null,
   "id": "68d78398-9718-4878-955a-2bd923ef9eeb",
   "metadata": {},
   "outputs": [],
   "source": []
  },
  {
   "cell_type": "code",
   "execution_count": null,
   "id": "c2b7dbe7-a595-401d-9534-b25d2d7dbe6b",
   "metadata": {},
   "outputs": [],
   "source": [
    "#Uses the model to predict the test images.\n",
    "test_images_predicted = model.predict(test_images)"
   ]
  },
  {
   "cell_type": "code",
   "execution_count": null,
   "id": "0b502243-bb61-4114-b932-ff747ced51ae",
   "metadata": {},
   "outputs": [],
   "source": [
    "#Displays the prediction for the 10,000th test image.\n",
    "test_images_predicted[9999]"
   ]
  },
  {
   "cell_type": "code",
   "execution_count": null,
   "id": "d7b17ea0-7162-4c74-801d-a3587c0aa6e4",
   "metadata": {},
   "outputs": [],
   "source": [
    "#Displays the 10,000th test image.\n",
    "plt.matshow(test_images[9999])"
   ]
  },
  {
   "cell_type": "code",
   "execution_count": null,
   "id": "4e80f6e1-6adf-44c8-a5ca-0cbdc3449f98",
   "metadata": {},
   "outputs": [],
   "source": [
    "#Finds the predicted label for the 10,000th test image.\n",
    "np.argmax(test_images_predicted[9999])"
   ]
  },
  {
   "cell_type": "code",
   "execution_count": null,
   "id": "38ad6a86-653c-44f5-96ee-c0e7ef48bc35",
   "metadata": {},
   "outputs": [],
   "source": [
    "#Converts the predicted probabilities to class labels.\n",
    "test_images_predicted_labels = [np.argmax(i) for i in test_images_predicted]\n",
    "test_images_predicted_labels[:5]"
   ]
  },
  {
   "cell_type": "code",
   "execution_count": null,
   "id": "3222e319-f0c8-4c0d-b8a3-45792410bcf9",
   "metadata": {},
   "outputs": [],
   "source": [
    "##Creates a confusion matrix to compare the true labels with the predicted labels.\n",
    "cm = tf.math.confusion_matrix(labels=test_labels,predictions=test_images_predicted_labels)\n",
    "cm"
   ]
  },
  {
   "cell_type": "code",
   "execution_count": null,
   "id": "feabbf81-6efd-402f-ae1d-f1d476b484a4",
   "metadata": {},
   "outputs": [],
   "source": [
    "#Uses Seaborn to visualize the confusion matrix as a heatmap.\n",
    "plt.figure(figsize = (10,7))\n",
    "sn.heatmap(cm, annot=True, fmt='d')\n",
    "plt.xlabel('Predicted')\n",
    "plt.ylabel('Truth')\n",
    "plt.show()"
   ]
  },
  {
   "cell_type": "code",
   "execution_count": null,
   "id": "a06bc453-3063-4027-a2b2-4885aba5519e",
   "metadata": {},
   "outputs": [],
   "source": []
  },
  {
   "cell_type": "code",
   "execution_count": null,
   "id": "b1e0f4c7-2d2d-4e0a-b0ad-eb2c5937aa6e",
   "metadata": {},
   "outputs": [],
   "source": []
  }
 ],
 "metadata": {
  "kernelspec": {
   "display_name": "Python 3 (ipykernel)",
   "language": "python",
   "name": "python3"
  },
  "language_info": {
   "codemirror_mode": {
    "name": "ipython",
    "version": 3
   },
   "file_extension": ".py",
   "mimetype": "text/x-python",
   "name": "python",
   "nbconvert_exporter": "python",
   "pygments_lexer": "ipython3",
   "version": "3.11.7"
  }
 },
 "nbformat": 4,
 "nbformat_minor": 5
}
