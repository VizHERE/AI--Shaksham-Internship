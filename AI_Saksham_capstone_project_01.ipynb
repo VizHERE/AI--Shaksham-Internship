{
  "cells": [
    {
      "cell_type": "markdown",
      "metadata": {
        "id": "view-in-github",
        "colab_type": "text"
      },
      "source": [
        "<a href=\"https://colab.research.google.com/github/VizHERE/AI--Shaksham-Internship/blob/main/AI_Saksham_capstone_project_01.ipynb\" target=\"_parent\"><img src=\"https://colab.research.google.com/assets/colab-badge.svg\" alt=\"Open In Colab\"/></a>"
      ]
    },
    {
      "cell_type": "code",
      "execution_count": null,
      "id": "a6ab8d92-c6cd-4c6c-b83a-00161c33f6bf",
      "metadata": {
        "id": "a6ab8d92-c6cd-4c6c-b83a-00161c33f6bf"
      },
      "outputs": [],
      "source": [
        "#Upgrades pip, the Python package installer, to the latest version.\n",
        "!pip install --upgrade pip"
      ]
    },
    {
      "cell_type": "code",
      "execution_count": null,
      "id": "4ebf31da-dd8e-4d44-9e3b-a7434cebe337",
      "metadata": {
        "id": "4ebf31da-dd8e-4d44-9e3b-a7434cebe337"
      },
      "outputs": [],
      "source": [
        "#Installs TensorFlow, an open-source machine learning library.\n",
        "!pip install tensorflow"
      ]
    },
    {
      "cell_type": "code",
      "execution_count": null,
      "id": "6a18b0a4-b454-4a24-9d4a-e9eec530be2d",
      "metadata": {
        "id": "6a18b0a4-b454-4a24-9d4a-e9eec530be2d"
      },
      "outputs": [],
      "source": [
        "import tensorflow as tf\n",
        "from tensorflow.keras import layers, models\n",
        "import matplotlib.pyplot as plt\n",
        "import numpy as np\n",
        "import seaborn as sn"
      ]
    },
    {
      "cell_type": "code",
      "execution_count": null,
      "id": "ea0e4893-7b04-44e6-82b2-bad20fd5df4e",
      "metadata": {
        "id": "ea0e4893-7b04-44e6-82b2-bad20fd5df4e"
      },
      "outputs": [],
      "source": [
        "#Loads the MNIST dataset.\n",
        "mnist = tf.keras.datasets.mnist"
      ]
    },
    {
      "cell_type": "code",
      "execution_count": null,
      "id": "f9e87341-19b2-493a-9ec0-24f92737d8a4",
      "metadata": {
        "colab": {
          "base_uri": "https://localhost:8080/"
        },
        "id": "f9e87341-19b2-493a-9ec0-24f92737d8a4",
        "outputId": "2e900734-b4ae-4237-b8ce-30394daf3d99"
      },
      "outputs": [
        {
          "output_type": "stream",
          "name": "stdout",
          "text": [
            "train_images: (60000, 28, 28)\n",
            "train_labels: (60000,)\n",
            "test_images: (10000, 28, 28)\n",
            "test_labels: (10000,)\n"
          ]
        }
      ],
      "source": [
        "#Splits the data into training and testing sets.\n",
        "(train_images, train_labels), (test_images, test_labels) = mnist.load_data()\n",
        "#Prints the shapes of the training and testing datasets to verify their dimensions.\n",
        "print(\"train_images:\",train_images.shape)\n",
        "print(\"train_labels:\",train_labels.shape)\n",
        "print(\"test_images:\",test_images.shape)\n",
        "print(\"test_labels:\",test_labels.shape)"
      ]
    },
    {
      "cell_type": "code",
      "execution_count": null,
      "id": "e9532e67-d9fd-4f0f-8daf-c13c9620cc5d",
      "metadata": {
        "colab": {
          "base_uri": "https://localhost:8080/",
          "height": 454
        },
        "id": "e9532e67-d9fd-4f0f-8daf-c13c9620cc5d",
        "outputId": "fa1838d3-c9f6-4fdd-8229-3f0d805801b3"
      },
      "outputs": [
        {
          "output_type": "stream",
          "name": "stdout",
          "text": [
            "5\n"
          ]
        },
        {
          "output_type": "display_data",
          "data": {
            "text/plain": [
              "<Figure size 480x480 with 1 Axes>"
            ],
            "image/png": "[encoded data removed]"
          },
          "metadata": {}
        }
      ],
      "source": [
        "# Displays the first training image.\n",
        "plt.matshow(train_images[0])\n",
        "#Prints the label of the first training image.\n",
        "print(train_labels[0])"
      ]
    },
    {
      "cell_type": "code",
      "execution_count": null,
      "id": "8140f240-805d-4137-bd1b-9d5dce742dcf",
      "metadata": {
        "id": "8140f240-805d-4137-bd1b-9d5dce742dcf"
      },
      "outputs": [],
      "source": [
        "#Normalizes the image pixel values to the range [0, 1].\n",
        "train_images, test_images = train_images / 255.0, test_images /255.0"
      ]
    },
    {
      "cell_type": "code",
      "execution_count": null,
      "id": "acde6ab6-2ebf-462f-905a-4bb9ead2012e",
      "metadata": {
        "id": "acde6ab6-2ebf-462f-905a-4bb9ead2012e"
      },
      "outputs": [],
      "source": [
        "#Reshapes the images to add a single color channel (grayscale).\n",
        "train_images = train_images.reshape(train_images.shape[0], 28,28, 1)\n",
        "test_images = test_images.reshape(test_images.shape[0], 28, 28,1)"
      ]
    },
    {
      "cell_type": "code",
      "execution_count": null,
      "id": "0c361945-7ca9-411f-9903-07f768430382",
      "metadata": {
        "id": "0c361945-7ca9-411f-9903-07f768430382"
      },
      "outputs": [],
      "source": [
        "#Building the CNN Model by  Initializing a sequential model.\n",
        "model = models.Sequential([\n",
        "    layers.Conv2D(32, (3, 3), activation='relu', input_shape=(28,28, 1)),\n",
        "    layers.MaxPooling2D((2, 2)),\n",
        "    layers.Conv2D(64, (3, 3), activation='relu'),\n",
        "    layers.MaxPooling2D((2, 2)),\n",
        "    layers.Conv2D(64, (3, 3), activation='relu'),\n",
        "    layers.Flatten(),\n",
        "    layers.Dense(64, activation='relu'),\n",
        "    layers.Dense(10, activation='softmax')])"
      ]
    },
    {
      "cell_type": "code",
      "execution_count": null,
      "id": "be01a294-226a-461f-b7f5-3a3c8dbe4f30",
      "metadata": {
        "id": "be01a294-226a-461f-b7f5-3a3c8dbe4f30"
      },
      "outputs": [],
      "source": [
        "#Compiles the model with the Adam optimizer, sparse categorical cross-entropy loss function, and accuracy as a metric.\n",
        "model.compile(optimizer='adam',loss='sparse_categorical_crossentropy',metrics=['accuracy'])"
      ]
    },
    {
      "cell_type": "code",
      "execution_count": null,
      "id": "09b5ea16-6403-4f40-adaa-db06fb8249b7",
      "metadata": {
        "colab": {
          "base_uri": "https://localhost:8080/"
        },
        "id": "09b5ea16-6403-4f40-adaa-db06fb8249b7",
        "outputId": "a465ff43-6c37-4663-99cd-282b06e09ab0"
      },
      "outputs": [
        {
          "output_type": "stream",
          "name": "stdout",
          "text": [
            "Epoch 1/5\n",
            "1875/1875 [==============================] - 64s 33ms/step - loss: 0.1457 - accuracy: 0.9551 - val_loss: 0.0479 - val_accuracy: 0.9835\n",
            "Epoch 2/5\n",
            "1875/1875 [==============================] - 58s 31ms/step - loss: 0.0466 - accuracy: 0.9855 - val_loss: 0.0470 - val_accuracy: 0.9841\n",
            "Epoch 3/5\n",
            "1875/1875 [==============================] - 69s 37ms/step - loss: 0.0341 - accuracy: 0.9896 - val_loss: 0.0426 - val_accuracy: 0.9865\n",
            "Epoch 4/5\n",
            "1875/1875 [==============================] - 57s 30ms/step - loss: 0.0261 - accuracy: 0.9916 - val_loss: 0.0335 - val_accuracy: 0.9892\n",
            "Epoch 5/5\n",
            "1875/1875 [==============================] - 58s 31ms/step - loss: 0.0205 - accuracy: 0.9933 - val_loss: 0.0254 - val_accuracy: 0.9925\n"
          ]
        },
        {
          "output_type": "execute_result",
          "data": {
            "text/plain": [
              "<keras.src.callbacks.History at 0x79d910a4e9b0>"
            ]
          },
          "metadata": {},
          "execution_count": 13
        }
      ],
      "source": [
        "#Trains the model on the training data for 5 epochs.Uses the test data for validation.\n",
        "model.fit(train_images, train_labels, epochs=5,validation_data=(test_images, test_labels))"
      ]
    },
    {
      "cell_type": "code",
      "execution_count": null,
      "id": "bf7e3307-377c-41ed-a1a3-c58fff790ca4",
      "metadata": {
        "colab": {
          "base_uri": "https://localhost:8080/"
        },
        "id": "bf7e3307-377c-41ed-a1a3-c58fff790ca4",
        "outputId": "abc5abe6-55db-413e-f0b4-416297c414eb"
      },
      "outputs": [
        {
          "output_type": "stream",
          "name": "stdout",
          "text": [
            "313/313 [==============================] - 4s 14ms/step - loss: 0.0254 - accuracy: 0.9925\n",
            "Test accuracy: 0.9925000071525574\n"
          ]
        }
      ],
      "source": [
        "#Evaluates the model on the test data and prints the test accuracy.\n",
        "test_loss, test_acc = model.evaluate(test_images, test_labels,verbose=1)\n",
        "print(f'Test accuracy: {test_acc}')"
      ]
    },
    {
      "cell_type": "code",
      "execution_count": null,
      "id": "c2b7dbe7-a595-401d-9534-b25d2d7dbe6b",
      "metadata": {
        "colab": {
          "base_uri": "https://localhost:8080/"
        },
        "id": "c2b7dbe7-a595-401d-9534-b25d2d7dbe6b",
        "outputId": "f0266eb7-0634-42f4-cd17-e246f25e3825"
      },
      "outputs": [
        {
          "output_type": "stream",
          "name": "stdout",
          "text": [
            "313/313 [==============================] - 3s 8ms/step\n"
          ]
        }
      ],
      "source": [
        "#Uses the model to predict the test images.\n",
        "test_images_predicted = model.predict(test_images)"
      ]
    },
    {
      "cell_type": "code",
      "execution_count": null,
      "id": "0b502243-bb61-4114-b932-ff747ced51ae",
      "metadata": {
        "colab": {
          "base_uri": "https://localhost:8080/"
        },
        "id": "0b502243-bb61-4114-b932-ff747ced51ae",
        "outputId": "9a816e2e-e84a-49b1-fc7b-07a396aabc33"
      },
      "outputs": [
        {
          "output_type": "execute_result",
          "data": {
            "text/plain": [
              "array([1.68839094e-08, 1.90326137e-08, 1.32928631e-06, 3.11788131e-06,\n",
              "       1.78132211e-07, 1.67518083e-05, 9.99976337e-01, 3.61703251e-10,\n",
              "       2.11367546e-06, 1.18509395e-11], dtype=float32)"
            ]
          },
          "metadata": {},
          "execution_count": 16
        }
      ],
      "source": [
        "#Displays the prediction for the 10,000th test image.\n",
        "test_images_predicted[9999]"
      ]
    },
    {
      "cell_type": "code",
      "execution_count": null,
      "id": "d7b17ea0-7162-4c74-801d-a3587c0aa6e4",
      "metadata": {
        "colab": {
          "base_uri": "https://localhost:8080/",
          "height": 454
        },
        "id": "d7b17ea0-7162-4c74-801d-a3587c0aa6e4",
        "outputId": "360c58a2-bd8d-4652-baaf-0f687a852b84"
      },
      "outputs": [
        {
          "output_type": "execute_result",
          "data": {
            "text/plain": [
              "<matplotlib.image.AxesImage at 0x79d90e1f0f10>"
            ]
          },
          "metadata": {},
          "execution_count": 17
        },
        {
          "output_type": "display_data",
          "data": {
            "text/plain": [
              "<Figure size 480x480 with 1 Axes>"
            ],
            "image/png": "[encoded data removed]"
          },
          "metadata": {}
        }
      ],
      "source": [
        "#Displays the 10,000th test image.\n",
        "plt.matshow(test_images[9999])"
      ]
    },
    {
      "cell_type": "code",
      "execution_count": null,
      "id": "4e80f6e1-6adf-44c8-a5ca-0cbdc3449f98",
      "metadata": {
        "colab": {
          "base_uri": "https://localhost:8080/"
        },
        "id": "4e80f6e1-6adf-44c8-a5ca-0cbdc3449f98",
        "outputId": "b7b3c213-f30b-400c-c97e-9819e33c6ae6"
      },
      "outputs": [
        {
          "output_type": "execute_result",
          "data": {
            "text/plain": [
              "6"
            ]
          },
          "metadata": {},
          "execution_count": 18
        }
      ],
      "source": [
        "#Finds the predicted label for the 10,000th test image.\n",
        "np.argmax(test_images_predicted[9999])"
      ]
    },
    {
      "cell_type": "code",
      "execution_count": null,
      "id": "38ad6a86-653c-44f5-96ee-c0e7ef48bc35",
      "metadata": {
        "colab": {
          "base_uri": "https://localhost:8080/"
        },
        "id": "38ad6a86-653c-44f5-96ee-c0e7ef48bc35",
        "outputId": "02f013f5-0319-4bd6-8a24-2117d46bdd89"
      },
      "outputs": [
        {
          "output_type": "execute_result",
          "data": {
            "text/plain": [
              "[7, 2, 1, 0, 4]"
            ]
          },
          "metadata": {},
          "execution_count": 19
        }
      ],
      "source": [
        "#Converts the predicted probabilities to class labels.\n",
        "test_images_predicted_labels = [np.argmax(i) for i in test_images_predicted]\n",
        "test_images_predicted_labels[:5]"
      ]
    },
    {
      "cell_type": "code",
      "execution_count": null,
      "id": "3222e319-f0c8-4c0d-b8a3-45792410bcf9",
      "metadata": {
        "colab": {
          "base_uri": "https://localhost:8080/"
        },
        "id": "3222e319-f0c8-4c0d-b8a3-45792410bcf9",
        "outputId": "f3800d44-a605-476d-e178-64646384c7e7"
      },
      "outputs": [
        {
          "output_type": "execute_result",
          "data": {
            "text/plain": [
              "<tf.Tensor: shape=(10, 10), dtype=int32, numpy=\n",
              "array([[ 975,    0,    1,    0,    0,    0,    2,    1,    1,    0],\n",
              "       [   0, 1128,    0,    1,    0,    0,    1,    5,    0,    0],\n",
              "       [   2,    1, 1026,    1,    0,    0,    0,    2,    0,    0],\n",
              "       [   0,    0,    0, 1007,    0,    3,    0,    0,    0,    0],\n",
              "       [   0,    0,    0,    0,  978,    0,    2,    0,    1,    1],\n",
              "       [   1,    0,    0,    3,    0,  885,    1,    1,    0,    1],\n",
              "       [   3,    3,    0,    0,    1,    3,  947,    0,    1,    0],\n",
              "       [   0,    2,    1,    1,    0,    0,    0, 1024,    0,    0],\n",
              "       [   2,    0,    0,    3,    0,    2,    0,    3,  963,    1],\n",
              "       [   0,    0,    0,    1,    9,    5,    0,    1,    1,  992]],\n",
              "      dtype=int32)>"
            ]
          },
          "metadata": {},
          "execution_count": 20
        }
      ],
      "source": [
        "##Creates a confusion matrix to compare the true labels with the predicted labels.\n",
        "cm = tf.math.confusion_matrix(labels=test_labels,predictions=test_images_predicted_labels)\n",
        "cm"
      ]
    },
    {
      "cell_type": "code",
      "execution_count": null,
      "id": "feabbf81-6efd-402f-ae1d-f1d476b484a4",
      "metadata": {
        "colab": {
          "base_uri": "https://localhost:8080/",
          "height": 619
        },
        "id": "feabbf81-6efd-402f-ae1d-f1d476b484a4",
        "outputId": "0551701a-f182-43b1-b81c-bc578e75e6f2"
      },
      "outputs": [
        {
          "output_type": "display_data",
          "data": {
            "text/plain": [
              "<Figure size 1000x700 with 2 Axes>"
            ],
            "image/png": "[encoded data removed]"
          },
          "metadata": {}
        }
      ],
      "source": [
        "#Uses Seaborn to visualize the confusion matrix as a heatmap.\n",
        "plt.figure(figsize = (10,7))\n",
        "sn.heatmap(cm, annot=True, fmt='d')\n",
        "plt.xlabel('Predicted')\n",
        "plt.ylabel('Truth')\n",
        "plt.show()"
      ]
    },
    {
      "cell_type": "code",
      "execution_count": null,
      "id": "a06bc453-3063-4027-a2b2-4885aba5519e",
      "metadata": {
        "id": "a06bc453-3063-4027-a2b2-4885aba5519e"
      },
      "outputs": [],
      "source": []
    },
    {
      "cell_type": "code",
      "execution_count": null,
      "id": "b1e0f4c7-2d2d-4e0a-b0ad-eb2c5937aa6e",
      "metadata": {
        "id": "b1e0f4c7-2d2d-4e0a-b0ad-eb2c5937aa6e"
      },
      "outputs": [],
      "source": []
    }
  ],
  "metadata": {
    "kernelspec": {
      "display_name": "Python 3 (ipykernel)",
      "language": "python",
      "name": "python3"
    },
    "language_info": {
      "codemirror_mode": {
        "name": "ipython",
        "version": 3
      },
      "file_extension": ".py",
      "mimetype": "text/x-python",
      "name": "python",
      "nbconvert_exporter": "python",
      "pygments_lexer": "ipython3",
      "version": "3.11.7"
    },
    "colab": {
      "provenance": [],
      "include_colab_link": true
    }
  },
  "nbformat": 4,
  "nbformat_minor": 5
}